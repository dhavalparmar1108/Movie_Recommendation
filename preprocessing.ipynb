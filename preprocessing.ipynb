{
 "cells": [
  {
   "cell_type": "code",
   "execution_count": 39,
   "id": "8036db9f-5593-44e4-828c-96eebe48f193",
   "metadata": {},
   "outputs": [
    {
     "name": "stdout",
     "output_type": "stream",
     "text": [
      "                     title                                           overview  \\\n",
      "0     Deadpool & Wolverine  A listless Wade Wilson toils away in civilian ...   \n",
      "1             Inside Out 2  Teenager Riley's mind headquarters is undergoi...   \n",
      "2          Despicable Me 4  Gru and Lucy and their girls—Margo, Edith and ...   \n",
      "3                 Twisters  As storm season intensifies, the paths of form...   \n",
      "4                The Union  A New Jersey construction worker goes from reg...   \n",
      "...                    ...                                                ...   \n",
      "9975              She Chef  We’re travelling from luxury kitchen to luxury...   \n",
      "9976            The Forest  Set in the Aokigahara Forest, a real-life plac...   \n",
      "9977          Airport 1975  When an in-flight collision incapacitates the ...   \n",
      "9978      Doomsday Machine  Following the discovery of a doomsday machine ...   \n",
      "9979       I Want You Back  Peter and Emma thought they were on the precip...   \n",
      "\n",
      "                genre_ids release_date                       poster_path  \\\n",
      "0           [28, 35, 878]   2024-07-24  /8cdWjvZQUExUUTzyp4t6EDMubfO.jpg   \n",
      "1     [16, 10751, 12, 35]   2024-06-11  /vpnVM9B6NMmQpWeZvzLvDESb2QY.jpg   \n",
      "2     [16, 10751, 35, 28]   2024-06-20  /wWba3TaojhK7NdycRhoQpsG0FaH.jpg   \n",
      "3        [28, 12, 18, 53]   2024-07-10  /pjnD08FlMAIXsfOLKQbvmO0f0MD.jpg   \n",
      "4                [28, 35]   2024-08-15  /d9CTnTHip1RbVi2OQbA2LJJQAGI.jpg   \n",
      "...                   ...          ...                               ...   \n",
      "9975                 [99]   2023-05-18  /2tysDGy0PWM6snBNYIIlb9tEdqb.jpg   \n",
      "9976       [27, 53, 9648]   2016-01-07  /1TohqCqMbaiuRLJPrPW0vnQP3lE.jpg   \n",
      "9977         [18, 53, 28]   1974-10-18  /etfUuwVCvywq8mGspT94CBeLpSz.jpg   \n",
      "9978                [878]   1972-01-01  /8K2Xho8yK3bFGTCuZcc5Qo420dp.jpg   \n",
      "9979          [35, 10749]   2022-02-10  /AtCGLuDaft5PuELnxaFJf2gxbBd.jpg   \n",
      "\n",
      "           id  popularity  vote_average  vote_count  \n",
      "0      533535    5948.017         7.761        2263  \n",
      "1     1022789    3128.461         7.679        2918  \n",
      "2      519182    2384.852         7.300        1208  \n",
      "3      718821    2251.448         7.039        1031  \n",
      "4      704239    1791.389         6.366         343  \n",
      "...       ...         ...           ...         ...  \n",
      "9975  1037482       8.970         0.000           0  \n",
      "9976   329440      16.498         5.230        1710  \n",
      "9977    27932      16.493         5.700         250  \n",
      "9978   113523       9.772         3.100          26  \n",
      "9979   680860      17.012         6.300         307  \n",
      "\n",
      "[9980 rows x 9 columns]\n"
     ]
    }
   ],
   "source": [
    "import pandas as pd\n",
    "# If dataset.csv is in the same folder as your script\n",
    "movies = pd.read_csv('movies.csv')\n",
    "\n",
    "print(movies)"
   ]
  },
  {
   "cell_type": "code",
   "execution_count": 40,
   "id": "f73e8b11-cf70-4616-a015-17abf3002bb4",
   "metadata": {},
   "outputs": [
    {
     "data": {
      "text/html": [
       "<div>\n",
       "<style scoped>\n",
       "    .dataframe tbody tr th:only-of-type {\n",
       "        vertical-align: middle;\n",
       "    }\n",
       "\n",
       "    .dataframe tbody tr th {\n",
       "        vertical-align: top;\n",
       "    }\n",
       "\n",
       "    .dataframe thead th {\n",
       "        text-align: right;\n",
       "    }\n",
       "</style>\n",
       "<table border=\"1\" class=\"dataframe\">\n",
       "  <thead>\n",
       "    <tr style=\"text-align: right;\">\n",
       "      <th></th>\n",
       "      <th>id</th>\n",
       "      <th>popularity</th>\n",
       "      <th>vote_average</th>\n",
       "      <th>vote_count</th>\n",
       "    </tr>\n",
       "  </thead>\n",
       "  <tbody>\n",
       "    <tr>\n",
       "      <th>count</th>\n",
       "      <td>9.980000e+03</td>\n",
       "      <td>9980.000000</td>\n",
       "      <td>9980.000000</td>\n",
       "      <td>9980.000000</td>\n",
       "    </tr>\n",
       "    <tr>\n",
       "      <th>mean</th>\n",
       "      <td>3.567300e+05</td>\n",
       "      <td>40.274377</td>\n",
       "      <td>6.254893</td>\n",
       "      <td>1677.673848</td>\n",
       "    </tr>\n",
       "    <tr>\n",
       "      <th>std</th>\n",
       "      <td>4.108795e+05</td>\n",
       "      <td>99.062001</td>\n",
       "      <td>1.621877</td>\n",
       "      <td>3138.666799</td>\n",
       "    </tr>\n",
       "    <tr>\n",
       "      <th>min</th>\n",
       "      <td>5.000000e+00</td>\n",
       "      <td>8.970000</td>\n",
       "      <td>0.000000</td>\n",
       "      <td>0.000000</td>\n",
       "    </tr>\n",
       "    <tr>\n",
       "      <th>25%</th>\n",
       "      <td>1.150675e+04</td>\n",
       "      <td>19.559250</td>\n",
       "      <td>5.900000</td>\n",
       "      <td>116.750000</td>\n",
       "    </tr>\n",
       "    <tr>\n",
       "      <th>50%</th>\n",
       "      <td>1.262430e+05</td>\n",
       "      <td>25.799500</td>\n",
       "      <td>6.549000</td>\n",
       "      <td>519.000000</td>\n",
       "    </tr>\n",
       "    <tr>\n",
       "      <th>75%</th>\n",
       "      <td>6.382498e+05</td>\n",
       "      <td>38.857750</td>\n",
       "      <td>7.140500</td>\n",
       "      <td>1764.250000</td>\n",
       "    </tr>\n",
       "    <tr>\n",
       "      <th>max</th>\n",
       "      <td>1.330383e+06</td>\n",
       "      <td>5948.017000</td>\n",
       "      <td>10.000000</td>\n",
       "      <td>36170.000000</td>\n",
       "    </tr>\n",
       "  </tbody>\n",
       "</table>\n",
       "</div>"
      ],
      "text/plain": [
       "                 id   popularity  vote_average    vote_count\n",
       "count  9.980000e+03  9980.000000   9980.000000   9980.000000\n",
       "mean   3.567300e+05    40.274377      6.254893   1677.673848\n",
       "std    4.108795e+05    99.062001      1.621877   3138.666799\n",
       "min    5.000000e+00     8.970000      0.000000      0.000000\n",
       "25%    1.150675e+04    19.559250      5.900000    116.750000\n",
       "50%    1.262430e+05    25.799500      6.549000    519.000000\n",
       "75%    6.382498e+05    38.857750      7.140500   1764.250000\n",
       "max    1.330383e+06  5948.017000     10.000000  36170.000000"
      ]
     },
     "execution_count": 40,
     "metadata": {},
     "output_type": "execute_result"
    }
   ],
   "source": [
    "movies.describe()\n"
   ]
  },
  {
   "cell_type": "code",
   "execution_count": 41,
   "id": "7ae07fca-a926-4012-82c0-a2b710696fc6",
   "metadata": {},
   "outputs": [
    {
     "data": {
      "text/plain": [
       "Index(['title', 'overview', 'genre_ids', 'release_date', 'poster_path', 'id',\n",
       "       'popularity', 'vote_average', 'vote_count'],\n",
       "      dtype='object')"
      ]
     },
     "execution_count": 41,
     "metadata": {},
     "output_type": "execute_result"
    }
   ],
   "source": [
    "movies.columns"
   ]
  },
  {
   "cell_type": "code",
   "execution_count": 42,
   "id": "922afb39-bcf0-44f5-a41c-b0d8879e162d",
   "metadata": {},
   "outputs": [],
   "source": [
    "#movies['tags'] = movies['overview'] + movies['genre']\n",
    "movies['tags'] = movies['overview']"
   ]
  },
  {
   "cell_type": "code",
   "execution_count": 43,
   "id": "00aa7443-555c-4685-9286-7688d4f9f254",
   "metadata": {},
   "outputs": [],
   "source": [
    "#new_data = movies.drop(columns= ['overview', 'genre'])"
   ]
  },
  {
   "cell_type": "code",
   "execution_count": 44,
   "id": "94a86a00-a266-4025-9ca1-56b7b98b20fd",
   "metadata": {},
   "outputs": [],
   "source": [
    "new_data = movies.head(10000)"
   ]
  },
  {
   "cell_type": "code",
   "execution_count": 45,
   "id": "d928c7cd-52b6-4a3b-945c-1d5b6dd85c18",
   "metadata": {},
   "outputs": [
    {
     "data": {
      "text/html": [
       "<div>\n",
       "<style scoped>\n",
       "    .dataframe tbody tr th:only-of-type {\n",
       "        vertical-align: middle;\n",
       "    }\n",
       "\n",
       "    .dataframe tbody tr th {\n",
       "        vertical-align: top;\n",
       "    }\n",
       "\n",
       "    .dataframe thead th {\n",
       "        text-align: right;\n",
       "    }\n",
       "</style>\n",
       "<table border=\"1\" class=\"dataframe\">\n",
       "  <thead>\n",
       "    <tr style=\"text-align: right;\">\n",
       "      <th></th>\n",
       "      <th>title</th>\n",
       "      <th>overview</th>\n",
       "      <th>genre_ids</th>\n",
       "      <th>release_date</th>\n",
       "      <th>poster_path</th>\n",
       "      <th>id</th>\n",
       "      <th>popularity</th>\n",
       "      <th>vote_average</th>\n",
       "      <th>vote_count</th>\n",
       "      <th>tags</th>\n",
       "    </tr>\n",
       "  </thead>\n",
       "  <tbody>\n",
       "    <tr>\n",
       "      <th>0</th>\n",
       "      <td>Deadpool &amp; Wolverine</td>\n",
       "      <td>A listless Wade Wilson toils away in civilian ...</td>\n",
       "      <td>[28, 35, 878]</td>\n",
       "      <td>2024-07-24</td>\n",
       "      <td>/8cdWjvZQUExUUTzyp4t6EDMubfO.jpg</td>\n",
       "      <td>533535</td>\n",
       "      <td>5948.017</td>\n",
       "      <td>7.761</td>\n",
       "      <td>2263</td>\n",
       "      <td>A listless Wade Wilson toils away in civilian ...</td>\n",
       "    </tr>\n",
       "    <tr>\n",
       "      <th>1</th>\n",
       "      <td>Inside Out 2</td>\n",
       "      <td>Teenager Riley's mind headquarters is undergoi...</td>\n",
       "      <td>[16, 10751, 12, 35]</td>\n",
       "      <td>2024-06-11</td>\n",
       "      <td>/vpnVM9B6NMmQpWeZvzLvDESb2QY.jpg</td>\n",
       "      <td>1022789</td>\n",
       "      <td>3128.461</td>\n",
       "      <td>7.679</td>\n",
       "      <td>2918</td>\n",
       "      <td>Teenager Riley's mind headquarters is undergoi...</td>\n",
       "    </tr>\n",
       "    <tr>\n",
       "      <th>2</th>\n",
       "      <td>Despicable Me 4</td>\n",
       "      <td>Gru and Lucy and their girls—Margo, Edith and ...</td>\n",
       "      <td>[16, 10751, 35, 28]</td>\n",
       "      <td>2024-06-20</td>\n",
       "      <td>/wWba3TaojhK7NdycRhoQpsG0FaH.jpg</td>\n",
       "      <td>519182</td>\n",
       "      <td>2384.852</td>\n",
       "      <td>7.300</td>\n",
       "      <td>1208</td>\n",
       "      <td>Gru and Lucy and their girls—Margo, Edith and ...</td>\n",
       "    </tr>\n",
       "    <tr>\n",
       "      <th>3</th>\n",
       "      <td>Twisters</td>\n",
       "      <td>As storm season intensifies, the paths of form...</td>\n",
       "      <td>[28, 12, 18, 53]</td>\n",
       "      <td>2024-07-10</td>\n",
       "      <td>/pjnD08FlMAIXsfOLKQbvmO0f0MD.jpg</td>\n",
       "      <td>718821</td>\n",
       "      <td>2251.448</td>\n",
       "      <td>7.039</td>\n",
       "      <td>1031</td>\n",
       "      <td>As storm season intensifies, the paths of form...</td>\n",
       "    </tr>\n",
       "    <tr>\n",
       "      <th>4</th>\n",
       "      <td>The Union</td>\n",
       "      <td>A New Jersey construction worker goes from reg...</td>\n",
       "      <td>[28, 35]</td>\n",
       "      <td>2024-08-15</td>\n",
       "      <td>/d9CTnTHip1RbVi2OQbA2LJJQAGI.jpg</td>\n",
       "      <td>704239</td>\n",
       "      <td>1791.389</td>\n",
       "      <td>6.366</td>\n",
       "      <td>343</td>\n",
       "      <td>A New Jersey construction worker goes from reg...</td>\n",
       "    </tr>\n",
       "    <tr>\n",
       "      <th>...</th>\n",
       "      <td>...</td>\n",
       "      <td>...</td>\n",
       "      <td>...</td>\n",
       "      <td>...</td>\n",
       "      <td>...</td>\n",
       "      <td>...</td>\n",
       "      <td>...</td>\n",
       "      <td>...</td>\n",
       "      <td>...</td>\n",
       "      <td>...</td>\n",
       "    </tr>\n",
       "    <tr>\n",
       "      <th>9975</th>\n",
       "      <td>She Chef</td>\n",
       "      <td>We’re travelling from luxury kitchen to luxury...</td>\n",
       "      <td>[99]</td>\n",
       "      <td>2023-05-18</td>\n",
       "      <td>/2tysDGy0PWM6snBNYIIlb9tEdqb.jpg</td>\n",
       "      <td>1037482</td>\n",
       "      <td>8.970</td>\n",
       "      <td>0.000</td>\n",
       "      <td>0</td>\n",
       "      <td>We’re travelling from luxury kitchen to luxury...</td>\n",
       "    </tr>\n",
       "    <tr>\n",
       "      <th>9976</th>\n",
       "      <td>The Forest</td>\n",
       "      <td>Set in the Aokigahara Forest, a real-life plac...</td>\n",
       "      <td>[27, 53, 9648]</td>\n",
       "      <td>2016-01-07</td>\n",
       "      <td>/1TohqCqMbaiuRLJPrPW0vnQP3lE.jpg</td>\n",
       "      <td>329440</td>\n",
       "      <td>16.498</td>\n",
       "      <td>5.230</td>\n",
       "      <td>1710</td>\n",
       "      <td>Set in the Aokigahara Forest, a real-life plac...</td>\n",
       "    </tr>\n",
       "    <tr>\n",
       "      <th>9977</th>\n",
       "      <td>Airport 1975</td>\n",
       "      <td>When an in-flight collision incapacitates the ...</td>\n",
       "      <td>[18, 53, 28]</td>\n",
       "      <td>1974-10-18</td>\n",
       "      <td>/etfUuwVCvywq8mGspT94CBeLpSz.jpg</td>\n",
       "      <td>27932</td>\n",
       "      <td>16.493</td>\n",
       "      <td>5.700</td>\n",
       "      <td>250</td>\n",
       "      <td>When an in-flight collision incapacitates the ...</td>\n",
       "    </tr>\n",
       "    <tr>\n",
       "      <th>9978</th>\n",
       "      <td>Doomsday Machine</td>\n",
       "      <td>Following the discovery of a doomsday machine ...</td>\n",
       "      <td>[878]</td>\n",
       "      <td>1972-01-01</td>\n",
       "      <td>/8K2Xho8yK3bFGTCuZcc5Qo420dp.jpg</td>\n",
       "      <td>113523</td>\n",
       "      <td>9.772</td>\n",
       "      <td>3.100</td>\n",
       "      <td>26</td>\n",
       "      <td>Following the discovery of a doomsday machine ...</td>\n",
       "    </tr>\n",
       "    <tr>\n",
       "      <th>9979</th>\n",
       "      <td>I Want You Back</td>\n",
       "      <td>Peter and Emma thought they were on the precip...</td>\n",
       "      <td>[35, 10749]</td>\n",
       "      <td>2022-02-10</td>\n",
       "      <td>/AtCGLuDaft5PuELnxaFJf2gxbBd.jpg</td>\n",
       "      <td>680860</td>\n",
       "      <td>17.012</td>\n",
       "      <td>6.300</td>\n",
       "      <td>307</td>\n",
       "      <td>Peter and Emma thought they were on the precip...</td>\n",
       "    </tr>\n",
       "  </tbody>\n",
       "</table>\n",
       "<p>9980 rows × 10 columns</p>\n",
       "</div>"
      ],
      "text/plain": [
       "                     title                                           overview  \\\n",
       "0     Deadpool & Wolverine  A listless Wade Wilson toils away in civilian ...   \n",
       "1             Inside Out 2  Teenager Riley's mind headquarters is undergoi...   \n",
       "2          Despicable Me 4  Gru and Lucy and their girls—Margo, Edith and ...   \n",
       "3                 Twisters  As storm season intensifies, the paths of form...   \n",
       "4                The Union  A New Jersey construction worker goes from reg...   \n",
       "...                    ...                                                ...   \n",
       "9975              She Chef  We’re travelling from luxury kitchen to luxury...   \n",
       "9976            The Forest  Set in the Aokigahara Forest, a real-life plac...   \n",
       "9977          Airport 1975  When an in-flight collision incapacitates the ...   \n",
       "9978      Doomsday Machine  Following the discovery of a doomsday machine ...   \n",
       "9979       I Want You Back  Peter and Emma thought they were on the precip...   \n",
       "\n",
       "                genre_ids release_date                       poster_path  \\\n",
       "0           [28, 35, 878]   2024-07-24  /8cdWjvZQUExUUTzyp4t6EDMubfO.jpg   \n",
       "1     [16, 10751, 12, 35]   2024-06-11  /vpnVM9B6NMmQpWeZvzLvDESb2QY.jpg   \n",
       "2     [16, 10751, 35, 28]   2024-06-20  /wWba3TaojhK7NdycRhoQpsG0FaH.jpg   \n",
       "3        [28, 12, 18, 53]   2024-07-10  /pjnD08FlMAIXsfOLKQbvmO0f0MD.jpg   \n",
       "4                [28, 35]   2024-08-15  /d9CTnTHip1RbVi2OQbA2LJJQAGI.jpg   \n",
       "...                   ...          ...                               ...   \n",
       "9975                 [99]   2023-05-18  /2tysDGy0PWM6snBNYIIlb9tEdqb.jpg   \n",
       "9976       [27, 53, 9648]   2016-01-07  /1TohqCqMbaiuRLJPrPW0vnQP3lE.jpg   \n",
       "9977         [18, 53, 28]   1974-10-18  /etfUuwVCvywq8mGspT94CBeLpSz.jpg   \n",
       "9978                [878]   1972-01-01  /8K2Xho8yK3bFGTCuZcc5Qo420dp.jpg   \n",
       "9979          [35, 10749]   2022-02-10  /AtCGLuDaft5PuELnxaFJf2gxbBd.jpg   \n",
       "\n",
       "           id  popularity  vote_average  vote_count  \\\n",
       "0      533535    5948.017         7.761        2263   \n",
       "1     1022789    3128.461         7.679        2918   \n",
       "2      519182    2384.852         7.300        1208   \n",
       "3      718821    2251.448         7.039        1031   \n",
       "4      704239    1791.389         6.366         343   \n",
       "...       ...         ...           ...         ...   \n",
       "9975  1037482       8.970         0.000           0   \n",
       "9976   329440      16.498         5.230        1710   \n",
       "9977    27932      16.493         5.700         250   \n",
       "9978   113523       9.772         3.100          26   \n",
       "9979   680860      17.012         6.300         307   \n",
       "\n",
       "                                                   tags  \n",
       "0     A listless Wade Wilson toils away in civilian ...  \n",
       "1     Teenager Riley's mind headquarters is undergoi...  \n",
       "2     Gru and Lucy and their girls—Margo, Edith and ...  \n",
       "3     As storm season intensifies, the paths of form...  \n",
       "4     A New Jersey construction worker goes from reg...  \n",
       "...                                                 ...  \n",
       "9975  We’re travelling from luxury kitchen to luxury...  \n",
       "9976  Set in the Aokigahara Forest, a real-life plac...  \n",
       "9977  When an in-flight collision incapacitates the ...  \n",
       "9978  Following the discovery of a doomsday machine ...  \n",
       "9979  Peter and Emma thought they were on the precip...  \n",
       "\n",
       "[9980 rows x 10 columns]"
      ]
     },
     "execution_count": 45,
     "metadata": {},
     "output_type": "execute_result"
    }
   ],
   "source": [
    "new_data"
   ]
  },
  {
   "cell_type": "code",
   "execution_count": 46,
   "id": "2513dd06",
   "metadata": {},
   "outputs": [
    {
     "data": {
      "text/plain": [
       "np.int64(1524)"
      ]
     },
     "execution_count": 46,
     "metadata": {},
     "output_type": "execute_result"
    }
   ],
   "source": [
    "num_duplicates = new_data.duplicated().sum()\n",
    "num_duplicates"
   ]
  },
  {
   "cell_type": "code",
   "execution_count": 47,
   "id": "1c8a9399",
   "metadata": {},
   "outputs": [],
   "source": [
    "df = new_data[new_data['title'] == \"Iron Man 2\"]\n"
   ]
  },
  {
   "cell_type": "code",
   "execution_count": 48,
   "id": "f3eb48a2",
   "metadata": {},
   "outputs": [
    {
     "name": "stdout",
     "output_type": "stream",
     "text": [
      "                               title  \\\n",
      "100                  The Last Breath   \n",
      "105                    Kalki 2898-AD   \n",
      "111                      Unang Tikim   \n",
      "125                            Atlas   \n",
      "126                            Dange   \n",
      "...                              ...   \n",
      "9960           An Inconvenient Truth   \n",
      "9961              Heart of Champions   \n",
      "9962        The Christmas Chronicles   \n",
      "9963                 God of Gamblers   \n",
      "9964  We're Back! A Dinosaur's Story   \n",
      "\n",
      "                                               overview            genre_ids  \\\n",
      "100   A group of old college friends reunite on a Ca...             [53, 27]   \n",
      "105   In the year 2898 AD, around 6000 years after K...    [18, 28, 14, 878]   \n",
      "111   Yuna, a woman engaged with her long time boyfr...          [10749, 18]   \n",
      "125   A brilliant counterterrorism analyst with a de...            [878, 28]   \n",
      "126   Former friends Xavier and Yuva meet again in c...         [28, 18, 53]   \n",
      "...                                                 ...                  ...   \n",
      "9960  A documentary on Al Gore's campaign to make th...                 [99]   \n",
      "9961  During their last year at an Ivy League colleg...                 [18]   \n",
      "9962  Siblings Kate and Teddy try to prove Santa Cla...  [35, 12, 10751, 14]   \n",
      "9963  Ko Chun is an extremely talented and well know...         [28, 35, 18]   \n",
      "9964  Captain New Eyes travels back in time and feed...     [16, 878, 10751]   \n",
      "\n",
      "     release_date                       poster_path       id  popularity  \\\n",
      "100    2024-06-28  /vWb8fEIsqKpO36Y7K5QH4DyV7zn.jpg  1241674     227.478   \n",
      "105    2024-06-26  /zNE88KjSX2nDSWjdsNqeIFGAXo8.jpg   801688     222.009   \n",
      "111    2024-07-07  /oDWZS6LznvdH7mZOYfCro0ISJCM.jpg  1308821     212.307   \n",
      "125    2024-05-23  /bcM2Tl5HlsvPBnL8DKP9Ie6vU4r.jpg   614933     205.354   \n",
      "126    2024-03-01  /4dJ0ktBUmnrAIw6i1p61WTTbz3H.jpg  1236671     214.503   \n",
      "...           ...                               ...      ...         ...   \n",
      "9960   2006-05-24   /zrYT5UHE2UIsofwkv6KK2Tsu5a.jpg     1781      20.958   \n",
      "9961   2021-09-16  /yhBhe8DjdFspNjMOyrqD8i9Gy60.jpg   647581      14.782   \n",
      "9962   2018-11-22  /5Il2EMSF2KecrUKZPuen6BZmaCP.jpg   527435      20.950   \n",
      "9963   1989-12-14  /lmAVK6B4uR8xgYTytjvAfoLuEBG.jpg    16269      20.950   \n",
      "9964   1993-11-24  /iyFmhYlioe3PDZjSKWtcIhu5R02.jpg    18890      15.744   \n",
      "\n",
      "      vote_average  vote_count  \\\n",
      "100          6.600          49   \n",
      "105          6.581          43   \n",
      "111          1.000           1   \n",
      "125          6.848        1094   \n",
      "126          3.000           1   \n",
      "...            ...         ...   \n",
      "9960         6.978         850   \n",
      "9961         6.390          59   \n",
      "9962         7.200        2098   \n",
      "9963         7.250         146   \n",
      "9964         6.048         408   \n",
      "\n",
      "                                                   tags  \n",
      "100   A group of old college friends reunite on a Ca...  \n",
      "105   In the year 2898 AD, around 6000 years after K...  \n",
      "111   Yuna, a woman engaged with her long time boyfr...  \n",
      "125   A brilliant counterterrorism analyst with a de...  \n",
      "126   Former friends Xavier and Yuva meet again in c...  \n",
      "...                                                 ...  \n",
      "9960  A documentary on Al Gore's campaign to make th...  \n",
      "9961  During their last year at an Ivy League colleg...  \n",
      "9962  Siblings Kate and Teddy try to prove Santa Cla...  \n",
      "9963  Ko Chun is an extremely talented and well know...  \n",
      "9964  Captain New Eyes travels back in time and feed...  \n",
      "\n",
      "[1524 rows x 10 columns]\n"
     ]
    }
   ],
   "source": [
    "duplicate_rows = new_data[new_data.duplicated()]\n",
    "print(duplicate_rows)"
   ]
  },
  {
   "cell_type": "code",
   "execution_count": 49,
   "id": "8f49bd88",
   "metadata": {},
   "outputs": [],
   "source": [
    "new_data = new_data.drop_duplicates()"
   ]
  },
  {
   "cell_type": "code",
   "execution_count": 50,
   "id": "44164b97",
   "metadata": {},
   "outputs": [
    {
     "data": {
      "text/plain": [
       "(8456, 10)"
      ]
     },
     "execution_count": 50,
     "metadata": {},
     "output_type": "execute_result"
    }
   ],
   "source": [
    "new_data.shape"
   ]
  },
  {
   "cell_type": "code",
   "execution_count": 51,
   "id": "4b2985e9-fc3a-497c-8018-080b5cd18554",
   "metadata": {},
   "outputs": [],
   "source": [
    "from sklearn.feature_extraction.text import CountVectorizer"
   ]
  },
  {
   "cell_type": "code",
   "execution_count": 52,
   "id": "ff8492b9-670b-4a03-bd59-f8226d9eda59",
   "metadata": {},
   "outputs": [],
   "source": [
    "cv = CountVectorizer(max_features = 8000, stop_words = 'english')"
   ]
  },
  {
   "cell_type": "code",
   "execution_count": 53,
   "id": "28369a95-2783-4eb2-b6c4-85fa0624a81c",
   "metadata": {},
   "outputs": [],
   "source": [
    "vector = cv.fit_transform(new_data['tags'].values.astype('U')).toarray()"
   ]
  },
  {
   "cell_type": "code",
   "execution_count": 54,
   "id": "e3f4497a-1ecc-4783-9a3d-8be7df7bd6b5",
   "metadata": {},
   "outputs": [
    {
     "data": {
      "text/plain": [
       "(8456, 8000)"
      ]
     },
     "execution_count": 54,
     "metadata": {},
     "output_type": "execute_result"
    }
   ],
   "source": [
    "vector.shape"
   ]
  },
  {
   "cell_type": "code",
   "execution_count": 55,
   "id": "0e51b418-89e0-4cc3-a2e2-3e5aaa933d42",
   "metadata": {},
   "outputs": [],
   "source": [
    "from sklearn.metrics.pairwise import cosine_similarity"
   ]
  },
  {
   "cell_type": "code",
   "execution_count": 56,
   "id": "19947eda-4068-491e-8b3c-7b7bc37bf48b",
   "metadata": {},
   "outputs": [],
   "source": [
    "similarity = cosine_similarity(vector)"
   ]
  },
  {
   "cell_type": "code",
   "execution_count": 57,
   "id": "68b65bfa-7bd9-4647-aa73-1a267236681a",
   "metadata": {},
   "outputs": [
    {
     "data": {
      "text/plain": [
       "array([[1.        , 0.        , 0.0378777 , ..., 0.        , 0.        ,\n",
       "        0.04428074],\n",
       "       [0.        , 1.        , 0.05902813, ..., 0.        , 0.        ,\n",
       "        0.03450328],\n",
       "       [0.0378777 , 0.05902813, 1.        , ..., 0.        , 0.        ,\n",
       "        0.        ],\n",
       "       ...,\n",
       "       [0.        , 0.        , 0.        , ..., 1.        , 0.        ,\n",
       "        0.        ],\n",
       "       [0.        , 0.        , 0.        , ..., 0.        , 1.        ,\n",
       "        0.        ],\n",
       "       [0.04428074, 0.03450328, 0.        , ..., 0.        , 0.        ,\n",
       "        1.        ]])"
      ]
     },
     "execution_count": 57,
     "metadata": {},
     "output_type": "execute_result"
    }
   ],
   "source": [
    "similarity"
   ]
  },
  {
   "cell_type": "code",
   "execution_count": 58,
   "id": "f08cb910-2d6d-4db1-a5c8-5cfb20678ef5",
   "metadata": {},
   "outputs": [
    {
     "data": {
      "text/plain": [
       "(8456, 8456)"
      ]
     },
     "execution_count": 58,
     "metadata": {},
     "output_type": "execute_result"
    }
   ],
   "source": [
    "similarity.shape"
   ]
  },
  {
   "cell_type": "code",
   "execution_count": 59,
   "id": "3eaff895-bb22-4ea2-ab9c-829d4eeda69a",
   "metadata": {},
   "outputs": [
    {
     "name": "stdout",
     "output_type": "stream",
     "text": [
      "Despicable Me 4\n",
      "Migration\n",
      "Despicable Me 2\n",
      "Are You There God? It's Me, Margaret.\n",
      "Despicable Me 3\n"
     ]
    }
   ],
   "source": [
    "distance = sorted(list(enumerate(similarity[2])), reverse = True, key = lambda vector:vector[1])\n",
    "\n",
    "for i in distance[0:5]:\n",
    "    print(new_data.iloc[i[0]].title)"
   ]
  },
  {
   "cell_type": "code",
   "execution_count": 60,
   "id": "6d34c96b-8f42-4556-9412-21fbf3c682bf",
   "metadata": {},
   "outputs": [],
   "source": [
    "def recommand(movies):\n",
    "    index = new_data[new_data['title'] == movies].index[0]\n",
    "    distance = sorted(list(enumerate(similarity[index])), reverse = True, key = lambda vector:vector[1])\n",
    "    for i in distance[0:10]:\n",
    "        print(new_data.iloc[i[0]].title)"
   ]
  },
  {
   "cell_type": "code",
   "execution_count": 61,
   "id": "77126c54-f859-4736-ab29-0e3def49c066",
   "metadata": {},
   "outputs": [
    {
     "name": "stdout",
     "output_type": "stream",
     "text": [
      "Iron Man 2\n",
      "Spider-Man: Homecoming\n",
      "Iron Man\n",
      "Raising Helen\n",
      "Wonder Woman\n",
      "The Medusa Touch\n",
      "Fist of the North Star\n",
      "Last Riot\n",
      "A-X-L\n",
      "Mr. Destiny\n"
     ]
    }
   ],
   "source": [
    "recommand(\"Iron Man\")"
   ]
  },
  {
   "cell_type": "code",
   "execution_count": 62,
   "id": "1ea5f82b-e737-4c0d-918a-48d4ca91062d",
   "metadata": {},
   "outputs": [],
   "source": [
    "import pickle\n",
    "import gzip"
   ]
  },
  {
   "cell_type": "code",
   "execution_count": 63,
   "id": "47a12063-2b24-4511-af54-5a4fd08201cd",
   "metadata": {},
   "outputs": [],
   "source": [
    "with gzip.open('similarity.pkl.gz', 'wb') as f:\n",
    "    pickle.dump(similarity, f)"
   ]
  },
  {
   "cell_type": "code",
   "execution_count": 64,
   "id": "88f1f45a-5466-4b89-8241-6af702ddeaca",
   "metadata": {},
   "outputs": [],
   "source": [
    "pickle.dump(new_data, open(\"movies_list.pkl\" , 'wb'))"
   ]
  },
  {
   "cell_type": "code",
   "execution_count": 65,
   "id": "40c1a0b0",
   "metadata": {},
   "outputs": [
    {
     "data": {
      "text/html": [
       "<div>\n",
       "<style scoped>\n",
       "    .dataframe tbody tr th:only-of-type {\n",
       "        vertical-align: middle;\n",
       "    }\n",
       "\n",
       "    .dataframe tbody tr th {\n",
       "        vertical-align: top;\n",
       "    }\n",
       "\n",
       "    .dataframe thead th {\n",
       "        text-align: right;\n",
       "    }\n",
       "</style>\n",
       "<table border=\"1\" class=\"dataframe\">\n",
       "  <thead>\n",
       "    <tr style=\"text-align: right;\">\n",
       "      <th></th>\n",
       "      <th>title</th>\n",
       "      <th>overview</th>\n",
       "      <th>genre_ids</th>\n",
       "      <th>release_date</th>\n",
       "      <th>poster_path</th>\n",
       "      <th>id</th>\n",
       "      <th>popularity</th>\n",
       "      <th>vote_average</th>\n",
       "      <th>vote_count</th>\n",
       "      <th>tags</th>\n",
       "    </tr>\n",
       "  </thead>\n",
       "  <tbody>\n",
       "    <tr>\n",
       "      <th>0</th>\n",
       "      <td>Deadpool &amp; Wolverine</td>\n",
       "      <td>A listless Wade Wilson toils away in civilian ...</td>\n",
       "      <td>[28, 35, 878]</td>\n",
       "      <td>2024-07-24</td>\n",
       "      <td>/8cdWjvZQUExUUTzyp4t6EDMubfO.jpg</td>\n",
       "      <td>533535</td>\n",
       "      <td>5948.017</td>\n",
       "      <td>7.761</td>\n",
       "      <td>2263</td>\n",
       "      <td>A listless Wade Wilson toils away in civilian ...</td>\n",
       "    </tr>\n",
       "    <tr>\n",
       "      <th>1</th>\n",
       "      <td>Inside Out 2</td>\n",
       "      <td>Teenager Riley's mind headquarters is undergoi...</td>\n",
       "      <td>[16, 10751, 12, 35]</td>\n",
       "      <td>2024-06-11</td>\n",
       "      <td>/vpnVM9B6NMmQpWeZvzLvDESb2QY.jpg</td>\n",
       "      <td>1022789</td>\n",
       "      <td>3128.461</td>\n",
       "      <td>7.679</td>\n",
       "      <td>2918</td>\n",
       "      <td>Teenager Riley's mind headquarters is undergoi...</td>\n",
       "    </tr>\n",
       "    <tr>\n",
       "      <th>2</th>\n",
       "      <td>Despicable Me 4</td>\n",
       "      <td>Gru and Lucy and their girls—Margo, Edith and ...</td>\n",
       "      <td>[16, 10751, 35, 28]</td>\n",
       "      <td>2024-06-20</td>\n",
       "      <td>/wWba3TaojhK7NdycRhoQpsG0FaH.jpg</td>\n",
       "      <td>519182</td>\n",
       "      <td>2384.852</td>\n",
       "      <td>7.300</td>\n",
       "      <td>1208</td>\n",
       "      <td>Gru and Lucy and their girls—Margo, Edith and ...</td>\n",
       "    </tr>\n",
       "    <tr>\n",
       "      <th>3</th>\n",
       "      <td>Twisters</td>\n",
       "      <td>As storm season intensifies, the paths of form...</td>\n",
       "      <td>[28, 12, 18, 53]</td>\n",
       "      <td>2024-07-10</td>\n",
       "      <td>/pjnD08FlMAIXsfOLKQbvmO0f0MD.jpg</td>\n",
       "      <td>718821</td>\n",
       "      <td>2251.448</td>\n",
       "      <td>7.039</td>\n",
       "      <td>1031</td>\n",
       "      <td>As storm season intensifies, the paths of form...</td>\n",
       "    </tr>\n",
       "    <tr>\n",
       "      <th>4</th>\n",
       "      <td>The Union</td>\n",
       "      <td>A New Jersey construction worker goes from reg...</td>\n",
       "      <td>[28, 35]</td>\n",
       "      <td>2024-08-15</td>\n",
       "      <td>/d9CTnTHip1RbVi2OQbA2LJJQAGI.jpg</td>\n",
       "      <td>704239</td>\n",
       "      <td>1791.389</td>\n",
       "      <td>6.366</td>\n",
       "      <td>343</td>\n",
       "      <td>A New Jersey construction worker goes from reg...</td>\n",
       "    </tr>\n",
       "  </tbody>\n",
       "</table>\n",
       "</div>"
      ],
      "text/plain": [
       "                  title                                           overview  \\\n",
       "0  Deadpool & Wolverine  A listless Wade Wilson toils away in civilian ...   \n",
       "1          Inside Out 2  Teenager Riley's mind headquarters is undergoi...   \n",
       "2       Despicable Me 4  Gru and Lucy and their girls—Margo, Edith and ...   \n",
       "3              Twisters  As storm season intensifies, the paths of form...   \n",
       "4             The Union  A New Jersey construction worker goes from reg...   \n",
       "\n",
       "             genre_ids release_date                       poster_path  \\\n",
       "0        [28, 35, 878]   2024-07-24  /8cdWjvZQUExUUTzyp4t6EDMubfO.jpg   \n",
       "1  [16, 10751, 12, 35]   2024-06-11  /vpnVM9B6NMmQpWeZvzLvDESb2QY.jpg   \n",
       "2  [16, 10751, 35, 28]   2024-06-20  /wWba3TaojhK7NdycRhoQpsG0FaH.jpg   \n",
       "3     [28, 12, 18, 53]   2024-07-10  /pjnD08FlMAIXsfOLKQbvmO0f0MD.jpg   \n",
       "4             [28, 35]   2024-08-15  /d9CTnTHip1RbVi2OQbA2LJJQAGI.jpg   \n",
       "\n",
       "        id  popularity  vote_average  vote_count  \\\n",
       "0   533535    5948.017         7.761        2263   \n",
       "1  1022789    3128.461         7.679        2918   \n",
       "2   519182    2384.852         7.300        1208   \n",
       "3   718821    2251.448         7.039        1031   \n",
       "4   704239    1791.389         6.366         343   \n",
       "\n",
       "                                                tags  \n",
       "0  A listless Wade Wilson toils away in civilian ...  \n",
       "1  Teenager Riley's mind headquarters is undergoi...  \n",
       "2  Gru and Lucy and their girls—Margo, Edith and ...  \n",
       "3  As storm season intensifies, the paths of form...  \n",
       "4  A New Jersey construction worker goes from reg...  "
      ]
     },
     "execution_count": 65,
     "metadata": {},
     "output_type": "execute_result"
    }
   ],
   "source": [
    "new_data.head(5)"
   ]
  },
  {
   "cell_type": "code",
   "execution_count": 66,
   "id": "283f951b",
   "metadata": {},
   "outputs": [
    {
     "name": "stdout",
     "output_type": "stream",
     "text": [
      "Twisters\n",
      "Napoléon\n",
      "The Perfect Storm\n",
      "Supercell\n",
      "Jurassic World Camp Cretaceous: Hidden Adventure\n",
      "Plane\n",
      "Deep Blue Sea\n",
      "Black Water: Abyss\n",
      "Into the Storm\n",
      "Wild Seas\n"
     ]
    }
   ],
   "source": [
    "recommand(\"Twisters\")"
   ]
  }
 ],
 "metadata": {
  "kernelspec": {
   "display_name": "Python 3 (ipykernel)",
   "language": "python",
   "name": "python3"
  },
  "language_info": {
   "codemirror_mode": {
    "name": "ipython",
    "version": 3
   },
   "file_extension": ".py",
   "mimetype": "text/x-python",
   "name": "python",
   "nbconvert_exporter": "python",
   "pygments_lexer": "ipython3",
   "version": "3.12.5"
  }
 },
 "nbformat": 4,
 "nbformat_minor": 5
}
