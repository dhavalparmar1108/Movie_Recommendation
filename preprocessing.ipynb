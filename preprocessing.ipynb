{
 "cells": [
  {
   "cell_type": "code",
   "execution_count": 22,
   "id": "8036db9f-5593-44e4-828c-96eebe48f193",
   "metadata": {},
   "outputs": [
    {
     "name": "stdout",
     "output_type": "stream",
     "text": [
      "                     title                                           overview  \\\n",
      "0     Deadpool & Wolverine  A listless Wade Wilson toils away in civilian ...   \n",
      "1             Inside Out 2  Teenager Riley's mind headquarters is undergoi...   \n",
      "2          Despicable Me 4  Gru and Lucy and their girls—Margo, Edith and ...   \n",
      "3                 Twisters  As storm season intensifies, the paths of form...   \n",
      "4                The Union  A New Jersey construction worker goes from reg...   \n",
      "...                    ...                                                ...   \n",
      "9975              She Chef  We’re travelling from luxury kitchen to luxury...   \n",
      "9976            The Forest  Set in the Aokigahara Forest, a real-life plac...   \n",
      "9977          Airport 1975  When an in-flight collision incapacitates the ...   \n",
      "9978      Doomsday Machine  Following the discovery of a doomsday machine ...   \n",
      "9979       I Want You Back  Peter and Emma thought they were on the precip...   \n",
      "\n",
      "                genre_ids release_date                       poster_path  \\\n",
      "0           [28, 35, 878]   2024-07-24  /8cdWjvZQUExUUTzyp4t6EDMubfO.jpg   \n",
      "1     [16, 10751, 12, 35]   2024-06-11  /vpnVM9B6NMmQpWeZvzLvDESb2QY.jpg   \n",
      "2     [16, 10751, 35, 28]   2024-06-20  /wWba3TaojhK7NdycRhoQpsG0FaH.jpg   \n",
      "3        [28, 12, 18, 53]   2024-07-10  /pjnD08FlMAIXsfOLKQbvmO0f0MD.jpg   \n",
      "4                [28, 35]   2024-08-15  /d9CTnTHip1RbVi2OQbA2LJJQAGI.jpg   \n",
      "...                   ...          ...                               ...   \n",
      "9975                 [99]   2023-05-18  /2tysDGy0PWM6snBNYIIlb9tEdqb.jpg   \n",
      "9976       [27, 53, 9648]   2016-01-07  /1TohqCqMbaiuRLJPrPW0vnQP3lE.jpg   \n",
      "9977         [18, 53, 28]   1974-10-18  /etfUuwVCvywq8mGspT94CBeLpSz.jpg   \n",
      "9978                [878]   1972-01-01  /8K2Xho8yK3bFGTCuZcc5Qo420dp.jpg   \n",
      "9979          [35, 10749]   2022-02-10  /AtCGLuDaft5PuELnxaFJf2gxbBd.jpg   \n",
      "\n",
      "           id  popularity  vote_average  vote_count  \n",
      "0      533535    5948.017         7.761        2263  \n",
      "1     1022789    3128.461         7.679        2918  \n",
      "2      519182    2384.852         7.300        1208  \n",
      "3      718821    2251.448         7.039        1031  \n",
      "4      704239    1791.389         6.366         343  \n",
      "...       ...         ...           ...         ...  \n",
      "9975  1037482       8.970         0.000           0  \n",
      "9976   329440      16.498         5.230        1710  \n",
      "9977    27932      16.493         5.700         250  \n",
      "9978   113523       9.772         3.100          26  \n",
      "9979   680860      17.012         6.300         307  \n",
      "\n",
      "[9980 rows x 9 columns]\n"
     ]
    }
   ],
   "source": [
    "import pandas as pd\n",
    "# If dataset.csv is in the same folder as your script\n",
    "movies = pd.read_csv('movies.csv')\n",
    "\n",
    "print(movies)"
   ]
  },
  {
   "cell_type": "code",
   "execution_count": 23,
   "id": "f73e8b11-cf70-4616-a015-17abf3002bb4",
   "metadata": {},
   "outputs": [
    {
     "data": {
      "text/html": [
       "<div>\n",
       "<style scoped>\n",
       "    .dataframe tbody tr th:only-of-type {\n",
       "        vertical-align: middle;\n",
       "    }\n",
       "\n",
       "    .dataframe tbody tr th {\n",
       "        vertical-align: top;\n",
       "    }\n",
       "\n",
       "    .dataframe thead th {\n",
       "        text-align: right;\n",
       "    }\n",
       "</style>\n",
       "<table border=\"1\" class=\"dataframe\">\n",
       "  <thead>\n",
       "    <tr style=\"text-align: right;\">\n",
       "      <th></th>\n",
       "      <th>id</th>\n",
       "      <th>popularity</th>\n",
       "      <th>vote_average</th>\n",
       "      <th>vote_count</th>\n",
       "    </tr>\n",
       "  </thead>\n",
       "  <tbody>\n",
       "    <tr>\n",
       "      <th>count</th>\n",
       "      <td>9.980000e+03</td>\n",
       "      <td>9980.000000</td>\n",
       "      <td>9980.000000</td>\n",
       "      <td>9980.000000</td>\n",
       "    </tr>\n",
       "    <tr>\n",
       "      <th>mean</th>\n",
       "      <td>3.567300e+05</td>\n",
       "      <td>40.274377</td>\n",
       "      <td>6.254893</td>\n",
       "      <td>1677.673848</td>\n",
       "    </tr>\n",
       "    <tr>\n",
       "      <th>std</th>\n",
       "      <td>4.108795e+05</td>\n",
       "      <td>99.062001</td>\n",
       "      <td>1.621877</td>\n",
       "      <td>3138.666799</td>\n",
       "    </tr>\n",
       "    <tr>\n",
       "      <th>min</th>\n",
       "      <td>5.000000e+00</td>\n",
       "      <td>8.970000</td>\n",
       "      <td>0.000000</td>\n",
       "      <td>0.000000</td>\n",
       "    </tr>\n",
       "    <tr>\n",
       "      <th>25%</th>\n",
       "      <td>1.150675e+04</td>\n",
       "      <td>19.559250</td>\n",
       "      <td>5.900000</td>\n",
       "      <td>116.750000</td>\n",
       "    </tr>\n",
       "    <tr>\n",
       "      <th>50%</th>\n",
       "      <td>1.262430e+05</td>\n",
       "      <td>25.799500</td>\n",
       "      <td>6.549000</td>\n",
       "      <td>519.000000</td>\n",
       "    </tr>\n",
       "    <tr>\n",
       "      <th>75%</th>\n",
       "      <td>6.382498e+05</td>\n",
       "      <td>38.857750</td>\n",
       "      <td>7.140500</td>\n",
       "      <td>1764.250000</td>\n",
       "    </tr>\n",
       "    <tr>\n",
       "      <th>max</th>\n",
       "      <td>1.330383e+06</td>\n",
       "      <td>5948.017000</td>\n",
       "      <td>10.000000</td>\n",
       "      <td>36170.000000</td>\n",
       "    </tr>\n",
       "  </tbody>\n",
       "</table>\n",
       "</div>"
      ],
      "text/plain": [
       "                 id   popularity  vote_average    vote_count\n",
       "count  9.980000e+03  9980.000000   9980.000000   9980.000000\n",
       "mean   3.567300e+05    40.274377      6.254893   1677.673848\n",
       "std    4.108795e+05    99.062001      1.621877   3138.666799\n",
       "min    5.000000e+00     8.970000      0.000000      0.000000\n",
       "25%    1.150675e+04    19.559250      5.900000    116.750000\n",
       "50%    1.262430e+05    25.799500      6.549000    519.000000\n",
       "75%    6.382498e+05    38.857750      7.140500   1764.250000\n",
       "max    1.330383e+06  5948.017000     10.000000  36170.000000"
      ]
     },
     "execution_count": 23,
     "metadata": {},
     "output_type": "execute_result"
    }
   ],
   "source": [
    "movies.describe()\n"
   ]
  },
  {
   "cell_type": "code",
   "execution_count": 24,
   "id": "7ae07fca-a926-4012-82c0-a2b710696fc6",
   "metadata": {},
   "outputs": [
    {
     "data": {
      "text/plain": [
       "Index(['title', 'overview', 'genre_ids', 'release_date', 'poster_path', 'id',\n",
       "       'popularity', 'vote_average', 'vote_count'],\n",
       "      dtype='object')"
      ]
     },
     "execution_count": 24,
     "metadata": {},
     "output_type": "execute_result"
    }
   ],
   "source": [
    "movies.columns"
   ]
  },
  {
   "cell_type": "code",
   "execution_count": 25,
   "id": "922afb39-bcf0-44f5-a41c-b0d8879e162d",
   "metadata": {},
   "outputs": [],
   "source": [
    "#movies['tags'] = movies['overview'] + movies['genre']\n",
    "movies['tags'] = movies['overview']"
   ]
  },
  {
   "cell_type": "code",
   "execution_count": 26,
   "id": "00aa7443-555c-4685-9286-7688d4f9f254",
   "metadata": {},
   "outputs": [],
   "source": [
    "#new_data = movies.drop(columns= ['overview', 'genre'])"
   ]
  },
  {
   "cell_type": "code",
   "execution_count": 27,
   "id": "94a86a00-a266-4025-9ca1-56b7b98b20fd",
   "metadata": {},
   "outputs": [],
   "source": [
    "new_data = movies.head(10000)"
   ]
  },
  {
   "cell_type": "code",
   "execution_count": 28,
   "id": "d928c7cd-52b6-4a3b-945c-1d5b6dd85c18",
   "metadata": {},
   "outputs": [
    {
     "data": {
      "text/html": [
       "<div>\n",
       "<style scoped>\n",
       "    .dataframe tbody tr th:only-of-type {\n",
       "        vertical-align: middle;\n",
       "    }\n",
       "\n",
       "    .dataframe tbody tr th {\n",
       "        vertical-align: top;\n",
       "    }\n",
       "\n",
       "    .dataframe thead th {\n",
       "        text-align: right;\n",
       "    }\n",
       "</style>\n",
       "<table border=\"1\" class=\"dataframe\">\n",
       "  <thead>\n",
       "    <tr style=\"text-align: right;\">\n",
       "      <th></th>\n",
       "      <th>title</th>\n",
       "      <th>overview</th>\n",
       "      <th>genre_ids</th>\n",
       "      <th>release_date</th>\n",
       "      <th>poster_path</th>\n",
       "      <th>id</th>\n",
       "      <th>popularity</th>\n",
       "      <th>vote_average</th>\n",
       "      <th>vote_count</th>\n",
       "      <th>tags</th>\n",
       "    </tr>\n",
       "  </thead>\n",
       "  <tbody>\n",
       "    <tr>\n",
       "      <th>0</th>\n",
       "      <td>Deadpool &amp; Wolverine</td>\n",
       "      <td>A listless Wade Wilson toils away in civilian ...</td>\n",
       "      <td>[28, 35, 878]</td>\n",
       "      <td>2024-07-24</td>\n",
       "      <td>/8cdWjvZQUExUUTzyp4t6EDMubfO.jpg</td>\n",
       "      <td>533535</td>\n",
       "      <td>5948.017</td>\n",
       "      <td>7.761</td>\n",
       "      <td>2263</td>\n",
       "      <td>A listless Wade Wilson toils away in civilian ...</td>\n",
       "    </tr>\n",
       "    <tr>\n",
       "      <th>1</th>\n",
       "      <td>Inside Out 2</td>\n",
       "      <td>Teenager Riley's mind headquarters is undergoi...</td>\n",
       "      <td>[16, 10751, 12, 35]</td>\n",
       "      <td>2024-06-11</td>\n",
       "      <td>/vpnVM9B6NMmQpWeZvzLvDESb2QY.jpg</td>\n",
       "      <td>1022789</td>\n",
       "      <td>3128.461</td>\n",
       "      <td>7.679</td>\n",
       "      <td>2918</td>\n",
       "      <td>Teenager Riley's mind headquarters is undergoi...</td>\n",
       "    </tr>\n",
       "    <tr>\n",
       "      <th>2</th>\n",
       "      <td>Despicable Me 4</td>\n",
       "      <td>Gru and Lucy and their girls—Margo, Edith and ...</td>\n",
       "      <td>[16, 10751, 35, 28]</td>\n",
       "      <td>2024-06-20</td>\n",
       "      <td>/wWba3TaojhK7NdycRhoQpsG0FaH.jpg</td>\n",
       "      <td>519182</td>\n",
       "      <td>2384.852</td>\n",
       "      <td>7.300</td>\n",
       "      <td>1208</td>\n",
       "      <td>Gru and Lucy and their girls—Margo, Edith and ...</td>\n",
       "    </tr>\n",
       "    <tr>\n",
       "      <th>3</th>\n",
       "      <td>Twisters</td>\n",
       "      <td>As storm season intensifies, the paths of form...</td>\n",
       "      <td>[28, 12, 18, 53]</td>\n",
       "      <td>2024-07-10</td>\n",
       "      <td>/pjnD08FlMAIXsfOLKQbvmO0f0MD.jpg</td>\n",
       "      <td>718821</td>\n",
       "      <td>2251.448</td>\n",
       "      <td>7.039</td>\n",
       "      <td>1031</td>\n",
       "      <td>As storm season intensifies, the paths of form...</td>\n",
       "    </tr>\n",
       "    <tr>\n",
       "      <th>4</th>\n",
       "      <td>The Union</td>\n",
       "      <td>A New Jersey construction worker goes from reg...</td>\n",
       "      <td>[28, 35]</td>\n",
       "      <td>2024-08-15</td>\n",
       "      <td>/d9CTnTHip1RbVi2OQbA2LJJQAGI.jpg</td>\n",
       "      <td>704239</td>\n",
       "      <td>1791.389</td>\n",
       "      <td>6.366</td>\n",
       "      <td>343</td>\n",
       "      <td>A New Jersey construction worker goes from reg...</td>\n",
       "    </tr>\n",
       "    <tr>\n",
       "      <th>...</th>\n",
       "      <td>...</td>\n",
       "      <td>...</td>\n",
       "      <td>...</td>\n",
       "      <td>...</td>\n",
       "      <td>...</td>\n",
       "      <td>...</td>\n",
       "      <td>...</td>\n",
       "      <td>...</td>\n",
       "      <td>...</td>\n",
       "      <td>...</td>\n",
       "    </tr>\n",
       "    <tr>\n",
       "      <th>9975</th>\n",
       "      <td>She Chef</td>\n",
       "      <td>We’re travelling from luxury kitchen to luxury...</td>\n",
       "      <td>[99]</td>\n",
       "      <td>2023-05-18</td>\n",
       "      <td>/2tysDGy0PWM6snBNYIIlb9tEdqb.jpg</td>\n",
       "      <td>1037482</td>\n",
       "      <td>8.970</td>\n",
       "      <td>0.000</td>\n",
       "      <td>0</td>\n",
       "      <td>We’re travelling from luxury kitchen to luxury...</td>\n",
       "    </tr>\n",
       "    <tr>\n",
       "      <th>9976</th>\n",
       "      <td>The Forest</td>\n",
       "      <td>Set in the Aokigahara Forest, a real-life plac...</td>\n",
       "      <td>[27, 53, 9648]</td>\n",
       "      <td>2016-01-07</td>\n",
       "      <td>/1TohqCqMbaiuRLJPrPW0vnQP3lE.jpg</td>\n",
       "      <td>329440</td>\n",
       "      <td>16.498</td>\n",
       "      <td>5.230</td>\n",
       "      <td>1710</td>\n",
       "      <td>Set in the Aokigahara Forest, a real-life plac...</td>\n",
       "    </tr>\n",
       "    <tr>\n",
       "      <th>9977</th>\n",
       "      <td>Airport 1975</td>\n",
       "      <td>When an in-flight collision incapacitates the ...</td>\n",
       "      <td>[18, 53, 28]</td>\n",
       "      <td>1974-10-18</td>\n",
       "      <td>/etfUuwVCvywq8mGspT94CBeLpSz.jpg</td>\n",
       "      <td>27932</td>\n",
       "      <td>16.493</td>\n",
       "      <td>5.700</td>\n",
       "      <td>250</td>\n",
       "      <td>When an in-flight collision incapacitates the ...</td>\n",
       "    </tr>\n",
       "    <tr>\n",
       "      <th>9978</th>\n",
       "      <td>Doomsday Machine</td>\n",
       "      <td>Following the discovery of a doomsday machine ...</td>\n",
       "      <td>[878]</td>\n",
       "      <td>1972-01-01</td>\n",
       "      <td>/8K2Xho8yK3bFGTCuZcc5Qo420dp.jpg</td>\n",
       "      <td>113523</td>\n",
       "      <td>9.772</td>\n",
       "      <td>3.100</td>\n",
       "      <td>26</td>\n",
       "      <td>Following the discovery of a doomsday machine ...</td>\n",
       "    </tr>\n",
       "    <tr>\n",
       "      <th>9979</th>\n",
       "      <td>I Want You Back</td>\n",
       "      <td>Peter and Emma thought they were on the precip...</td>\n",
       "      <td>[35, 10749]</td>\n",
       "      <td>2022-02-10</td>\n",
       "      <td>/AtCGLuDaft5PuELnxaFJf2gxbBd.jpg</td>\n",
       "      <td>680860</td>\n",
       "      <td>17.012</td>\n",
       "      <td>6.300</td>\n",
       "      <td>307</td>\n",
       "      <td>Peter and Emma thought they were on the precip...</td>\n",
       "    </tr>\n",
       "  </tbody>\n",
       "</table>\n",
       "<p>9980 rows × 10 columns</p>\n",
       "</div>"
      ],
      "text/plain": [
       "                     title                                           overview  \\\n",
       "0     Deadpool & Wolverine  A listless Wade Wilson toils away in civilian ...   \n",
       "1             Inside Out 2  Teenager Riley's mind headquarters is undergoi...   \n",
       "2          Despicable Me 4  Gru and Lucy and their girls—Margo, Edith and ...   \n",
       "3                 Twisters  As storm season intensifies, the paths of form...   \n",
       "4                The Union  A New Jersey construction worker goes from reg...   \n",
       "...                    ...                                                ...   \n",
       "9975              She Chef  We’re travelling from luxury kitchen to luxury...   \n",
       "9976            The Forest  Set in the Aokigahara Forest, a real-life plac...   \n",
       "9977          Airport 1975  When an in-flight collision incapacitates the ...   \n",
       "9978      Doomsday Machine  Following the discovery of a doomsday machine ...   \n",
       "9979       I Want You Back  Peter and Emma thought they were on the precip...   \n",
       "\n",
       "                genre_ids release_date                       poster_path  \\\n",
       "0           [28, 35, 878]   2024-07-24  /8cdWjvZQUExUUTzyp4t6EDMubfO.jpg   \n",
       "1     [16, 10751, 12, 35]   2024-06-11  /vpnVM9B6NMmQpWeZvzLvDESb2QY.jpg   \n",
       "2     [16, 10751, 35, 28]   2024-06-20  /wWba3TaojhK7NdycRhoQpsG0FaH.jpg   \n",
       "3        [28, 12, 18, 53]   2024-07-10  /pjnD08FlMAIXsfOLKQbvmO0f0MD.jpg   \n",
       "4                [28, 35]   2024-08-15  /d9CTnTHip1RbVi2OQbA2LJJQAGI.jpg   \n",
       "...                   ...          ...                               ...   \n",
       "9975                 [99]   2023-05-18  /2tysDGy0PWM6snBNYIIlb9tEdqb.jpg   \n",
       "9976       [27, 53, 9648]   2016-01-07  /1TohqCqMbaiuRLJPrPW0vnQP3lE.jpg   \n",
       "9977         [18, 53, 28]   1974-10-18  /etfUuwVCvywq8mGspT94CBeLpSz.jpg   \n",
       "9978                [878]   1972-01-01  /8K2Xho8yK3bFGTCuZcc5Qo420dp.jpg   \n",
       "9979          [35, 10749]   2022-02-10  /AtCGLuDaft5PuELnxaFJf2gxbBd.jpg   \n",
       "\n",
       "           id  popularity  vote_average  vote_count  \\\n",
       "0      533535    5948.017         7.761        2263   \n",
       "1     1022789    3128.461         7.679        2918   \n",
       "2      519182    2384.852         7.300        1208   \n",
       "3      718821    2251.448         7.039        1031   \n",
       "4      704239    1791.389         6.366         343   \n",
       "...       ...         ...           ...         ...   \n",
       "9975  1037482       8.970         0.000           0   \n",
       "9976   329440      16.498         5.230        1710   \n",
       "9977    27932      16.493         5.700         250   \n",
       "9978   113523       9.772         3.100          26   \n",
       "9979   680860      17.012         6.300         307   \n",
       "\n",
       "                                                   tags  \n",
       "0     A listless Wade Wilson toils away in civilian ...  \n",
       "1     Teenager Riley's mind headquarters is undergoi...  \n",
       "2     Gru and Lucy and their girls—Margo, Edith and ...  \n",
       "3     As storm season intensifies, the paths of form...  \n",
       "4     A New Jersey construction worker goes from reg...  \n",
       "...                                                 ...  \n",
       "9975  We’re travelling from luxury kitchen to luxury...  \n",
       "9976  Set in the Aokigahara Forest, a real-life plac...  \n",
       "9977  When an in-flight collision incapacitates the ...  \n",
       "9978  Following the discovery of a doomsday machine ...  \n",
       "9979  Peter and Emma thought they were on the precip...  \n",
       "\n",
       "[9980 rows x 10 columns]"
      ]
     },
     "execution_count": 28,
     "metadata": {},
     "output_type": "execute_result"
    }
   ],
   "source": [
    "new_data"
   ]
  },
  {
   "cell_type": "code",
   "execution_count": 29,
   "id": "4b2985e9-fc3a-497c-8018-080b5cd18554",
   "metadata": {},
   "outputs": [],
   "source": [
    "from sklearn.feature_extraction.text import CountVectorizer"
   ]
  },
  {
   "cell_type": "code",
   "execution_count": 30,
   "id": "ff8492b9-670b-4a03-bd59-f8226d9eda59",
   "metadata": {},
   "outputs": [],
   "source": [
    "cv = CountVectorizer(max_features = 8000, stop_words = 'english')"
   ]
  },
  {
   "cell_type": "code",
   "execution_count": 31,
   "id": "28369a95-2783-4eb2-b6c4-85fa0624a81c",
   "metadata": {},
   "outputs": [],
   "source": [
    "vector = cv.fit_transform(new_data['tags'].values.astype('U')).toarray()"
   ]
  },
  {
   "cell_type": "code",
   "execution_count": 32,
   "id": "e3f4497a-1ecc-4783-9a3d-8be7df7bd6b5",
   "metadata": {},
   "outputs": [
    {
     "data": {
      "text/plain": [
       "(9980, 8000)"
      ]
     },
     "execution_count": 32,
     "metadata": {},
     "output_type": "execute_result"
    }
   ],
   "source": [
    "vector.shape"
   ]
  },
  {
   "cell_type": "code",
   "execution_count": 33,
   "id": "0e51b418-89e0-4cc3-a2e2-3e5aaa933d42",
   "metadata": {},
   "outputs": [],
   "source": [
    "from sklearn.metrics.pairwise import cosine_similarity"
   ]
  },
  {
   "cell_type": "code",
   "execution_count": 34,
   "id": "19947eda-4068-491e-8b3c-7b7bc37bf48b",
   "metadata": {},
   "outputs": [],
   "source": [
    "similarity = cosine_similarity(vector)"
   ]
  },
  {
   "cell_type": "code",
   "execution_count": 35,
   "id": "68b65bfa-7bd9-4647-aa73-1a267236681a",
   "metadata": {},
   "outputs": [
    {
     "data": {
      "text/plain": [
       "array([[1.        , 0.        , 0.03904344, ..., 0.        , 0.        ,\n",
       "        0.04564355],\n",
       "       [0.        , 1.        , 0.05902813, ..., 0.        , 0.        ,\n",
       "        0.03450328],\n",
       "       [0.03904344, 0.05902813, 1.        , ..., 0.        , 0.        ,\n",
       "        0.        ],\n",
       "       ...,\n",
       "       [0.        , 0.        , 0.        , ..., 1.        , 0.        ,\n",
       "        0.        ],\n",
       "       [0.        , 0.        , 0.        , ..., 0.        , 1.        ,\n",
       "        0.        ],\n",
       "       [0.04564355, 0.03450328, 0.        , ..., 0.        , 0.        ,\n",
       "        1.        ]])"
      ]
     },
     "execution_count": 35,
     "metadata": {},
     "output_type": "execute_result"
    }
   ],
   "source": [
    "similarity"
   ]
  },
  {
   "cell_type": "code",
   "execution_count": 36,
   "id": "f08cb910-2d6d-4db1-a5c8-5cfb20678ef5",
   "metadata": {},
   "outputs": [
    {
     "data": {
      "text/plain": [
       "(9980, 9980)"
      ]
     },
     "execution_count": 36,
     "metadata": {},
     "output_type": "execute_result"
    }
   ],
   "source": [
    "similarity.shape"
   ]
  },
  {
   "cell_type": "code",
   "execution_count": 37,
   "id": "3eaff895-bb22-4ea2-ab9c-829d4eeda69a",
   "metadata": {},
   "outputs": [
    {
     "name": "stdout",
     "output_type": "stream",
     "text": [
      "Despicable Me 4\n",
      "Migration\n",
      "Despicable Me 2\n",
      "Are You There God? It's Me, Margaret.\n",
      "Are You There God? It's Me, Margaret.\n"
     ]
    }
   ],
   "source": [
    "distance = sorted(list(enumerate(similarity[2])), reverse = True, key = lambda vector:vector[1])\n",
    "\n",
    "for i in distance[0:5]:\n",
    "    print(new_data.iloc[i[0]].title)"
   ]
  },
  {
   "cell_type": "code",
   "execution_count": 38,
   "id": "6d34c96b-8f42-4556-9412-21fbf3c682bf",
   "metadata": {},
   "outputs": [],
   "source": [
    "def recommand(movies):\n",
    "    index = new_data[new_data['title'] == movies].index[0]\n",
    "    distance = sorted(list(enumerate(similarity[index])), reverse = True, key = lambda vector:vector[1])\n",
    "    for i in distance[0:5]:\n",
    "        print(new_data.iloc[i[0]].title)"
   ]
  },
  {
   "cell_type": "code",
   "execution_count": 39,
   "id": "77126c54-f859-4736-ab29-0e3def49c066",
   "metadata": {},
   "outputs": [
    {
     "name": "stdout",
     "output_type": "stream",
     "text": [
      "Iron Man\n",
      "Clown\n",
      "Iron Man 2\n",
      "Iron Man 2\n",
      "Hellblazers\n"
     ]
    }
   ],
   "source": [
    "recommand(\"Iron Man\")"
   ]
  },
  {
   "cell_type": "code",
   "execution_count": 40,
   "id": "1ea5f82b-e737-4c0d-918a-48d4ca91062d",
   "metadata": {},
   "outputs": [],
   "source": [
    "import pickle\n",
    "import gzip"
   ]
  },
  {
   "cell_type": "code",
   "execution_count": 41,
   "id": "47a12063-2b24-4511-af54-5a4fd08201cd",
   "metadata": {},
   "outputs": [],
   "source": [
    "with gzip.open('similarity.pkl.gz', 'wb') as f:\n",
    "    pickle.dump(similarity, f)"
   ]
  },
  {
   "cell_type": "code",
   "execution_count": 42,
   "id": "88f1f45a-5466-4b89-8241-6af702ddeaca",
   "metadata": {},
   "outputs": [],
   "source": [
    "pickle.dump(new_data, open(\"movies_list.pkl\" , 'wb'))"
   ]
  }
 ],
 "metadata": {
  "kernelspec": {
   "display_name": "Python 3 (ipykernel)",
   "language": "python",
   "name": "python3"
  },
  "language_info": {
   "codemirror_mode": {
    "name": "ipython",
    "version": 3
   },
   "file_extension": ".py",
   "mimetype": "text/x-python",
   "name": "python",
   "nbconvert_exporter": "python",
   "pygments_lexer": "ipython3",
   "version": "3.12.5"
  }
 },
 "nbformat": 4,
 "nbformat_minor": 5
}
